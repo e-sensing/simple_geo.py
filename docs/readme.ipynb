{
 "cells": [
  {
   "cell_type": "markdown",
   "metadata": {},
   "source": [
    "# Python Client API for WFS and WTSS"
   ]
  },
  {
   "cell_type": "markdown",
   "metadata": {},
   "source": [
    "## Building and installing simple_geo.py from source"
   ]
  },
  {
   "cell_type": "markdown",
   "metadata": {},
   "source": [
    "1. In the shell, type\n",
    "\n",
    "```bash\n",
    "\n",
    "\n",
    "  git clone https://github.com/vconrado/simple_geo.py.git\n",
    "  cd simple_geo.py/src\n",
    "  pip install .\n",
    "```"
   ]
  },
  {
   "cell_type": "markdown",
   "metadata": {},
   "source": [
    "## Using SimpleGeo.py"
   ]
  },
  {
   "cell_type": "markdown",
   "metadata": {},
   "source": [
    "### Listing Features and Coverages\n",
    "\n",
    "In the following example, we import the SimpleGeo module and then create a SimpleGeo object to query and print the list of available features and coverages in the server.\n"
   ]
  },
  {
   "cell_type": "code",
   "execution_count": 1,
   "metadata": {},
   "outputs": [
    {
     "name": "stdout",
     "output_type": "stream",
     "text": [
      "{u'features': [u'esensing:estados_bra', u'esensing:focos_bra_2016', u'esensing:focos_bra_2016_01_01', u'esensing:municipios_bra']}\n",
      "{u'coverages': [u'climatologia', u'landcover_igbp_2012', u'ocorrencia_focos_2016', u'rpth']}\n"
     ]
    }
   ],
   "source": [
    "from SimpleGeo import SimpleGeo\n",
    "\n",
    "# connect to wfs and wtss servers\n",
    "s = SimpleGeo(wfs=\"http://wfs_server:8080/geoserver-esensing\", wtss=\"http://wtss_server:7654\")\n",
    "\n",
    "# print available features\n",
    "print(s.features())\n",
    "\n",
    "# print available coverages\n",
    "print(s.coverages())"
   ]
  },
  {
   "cell_type": "markdown",
   "metadata": {},
   "source": [
    "## Getting metadata\n",
    "\n",
    "In the following example, we use SimpleGeo to retrieve the details of a feature and a coverage. Then we format the response."
   ]
  },
  {
   "cell_type": "code",
   "execution_count": 2,
   "metadata": {},
   "outputs": [
    {
     "name": "stdout",
     "output_type": "stream",
     "text": [
      "{'geometry': {'localtype': u'MultiPolygon', 'type': u'gml:MultiPolygon', 'name': u'geometria'}, 'attributes': [{'localtype': u'string', 'type': u'xsd:string', 'name': u'nome'}, {'localtype': u'MultiPolygon', 'type': u'gml:MultiPolygon', 'name': u'geometria'}, {'localtype': u'string', 'type': u'xsd:string', 'name': u'pais'}, {'localtype': u'string', 'type': u'xsd:string', 'name': u'regiao'}], 'namespace': u'esensing', 'name': u'estados_bra', 'full_name': 'esensing:estados_bra'}\n",
      "{u'crs': {u'proj4': u'+proj=longlat +ellps=WGS84 +datum=WGS84 +no_defs', u'wkt': u'GEOGCS[\"WGS 84\",DATUM[\"WGS_1984\",SPHEROID[\"WGS 84\",6378137,298.257223563,AUTHORITY[\"EPSG\",\"7030\"]],AUTHORITY[\"EPSG\",\"6326\"]],PRIMEM[\"Greenwich\",0,AUTHORITY[\"EPSG\",\"8901\"]],UNIT[\"degree\",0.01745329251994328,AUTHORITY[\"EPSG\",\"9122\"]],AUTHORITY[\"EPSG\",\"4326\"]]'}, u'dimensions': {u'y': {u'max_idx': 1399, u'min_idx': 0, u'name': u'row_id'}, u'x': {u'max_idx': 1199, u'min_idx': 0, u'name': u'col_id'}, u't': {u'max_idx': 365, u'min_idx': 0, u'name': u'time_id'}}, u'timeline': [u'2016-01-01', u'2016-01-02', u'2016-01-03', u'2016-01-04', u'2016-01-05', u'2016-01-06', u'2016-01-07', u'2016-01-08', u'2016-01-09', u'2016-01-10', u'2016-01-11', u'2016-01-12', u'2016-01-13', u'2016-01-14', u'2016-01-15', u'2016-01-16', u'2016-01-17', u'2016-01-18', u'2016-01-19', u'2016-01-20', u'2016-01-21', u'2016-01-22', u'2016-01-23', u'2016-01-24', u'2016-01-25', u'2016-01-26', u'2016-01-27', u'2016-01-28', u'2016-01-29', u'2016-01-30', u'2016-01-31', u'2016-02-01', u'2016-02-02', u'2016-02-03', u'2016-02-04', u'2016-02-05', u'2016-02-06', u'2016-02-07', u'2016-02-08', u'2016-02-09', u'2016-02-10', u'2016-02-11', u'2016-02-12', u'2016-02-13', u'2016-02-14', u'2016-02-15', u'2016-02-16', u'2016-02-17', u'2016-02-18', u'2016-02-19', u'2016-02-20', u'2016-02-21', u'2016-02-22', u'2016-02-23', u'2016-02-24', u'2016-02-25', u'2016-02-26', u'2016-02-27', u'2016-02-28', u'2016-02-29', u'2016-03-01', u'2016-03-02', u'2016-03-03', u'2016-03-04', u'2016-03-05', u'2016-03-06', u'2016-03-07', u'2016-03-08', u'2016-03-09', u'2016-03-10', u'2016-03-11', u'2016-03-12', u'2016-03-13', u'2016-03-14', u'2016-03-15', u'2016-03-16', u'2016-03-17', u'2016-03-18', u'2016-03-19', u'2016-03-20', u'2016-03-21', u'2016-03-22', u'2016-03-23', u'2016-03-24', u'2016-03-25', u'2016-03-26', u'2016-03-27', u'2016-03-28', u'2016-03-29', u'2016-03-30', u'2016-03-31', u'2016-04-01', u'2016-04-02', u'2016-04-03', u'2016-04-04', u'2016-04-05', u'2016-04-06', u'2016-04-07', u'2016-04-08', u'2016-04-09', u'2016-04-10', u'2016-04-11', u'2016-04-12', u'2016-04-13', u'2016-04-14', u'2016-04-15', u'2016-04-16', u'2016-04-17', u'2016-04-18', u'2016-04-19', u'2016-04-20', u'2016-04-21', u'2016-04-22', u'2016-04-23', u'2016-04-24', u'2016-04-25', u'2016-04-26', u'2016-04-27', u'2016-04-28', u'2016-04-29', u'2016-04-30', u'2016-05-01', u'2016-05-02', u'2016-05-03', u'2016-05-04', u'2016-05-05', u'2016-05-06', u'2016-05-07', u'2016-05-08', u'2016-05-09', u'2016-05-10', u'2016-05-11', u'2016-05-12', u'2016-05-13', u'2016-05-14', u'2016-05-15', u'2016-05-16', u'2016-05-17', u'2016-05-18', u'2016-05-19', u'2016-05-20', u'2016-05-21', u'2016-05-22', u'2016-05-23', u'2016-05-24', u'2016-05-25', u'2016-05-26', u'2016-05-27', u'2016-05-28', u'2016-05-29', u'2016-05-30', u'2016-05-31', u'2016-06-01', u'2016-06-02', u'2016-06-03', u'2016-06-04', u'2016-06-05', u'2016-06-06', u'2016-06-07', u'2016-06-08', u'2016-06-09', u'2016-06-10', u'2016-06-11', u'2016-06-12', u'2016-06-13', u'2016-06-14', u'2016-06-15', u'2016-06-16', u'2016-06-17', u'2016-06-18', u'2016-06-19', u'2016-06-20', u'2016-06-21', u'2016-06-22', u'2016-06-23', u'2016-06-24', u'2016-06-25', u'2016-06-26', u'2016-06-27', u'2016-06-28', u'2016-06-29', u'2016-06-30', u'2016-07-01', u'2016-07-02', u'2016-07-03', u'2016-07-04', u'2016-07-05', u'2016-07-06', u'2016-07-07', u'2016-07-08', u'2016-07-09', u'2016-07-10', u'2016-07-11', u'2016-07-12', u'2016-07-13', u'2016-07-14', u'2016-07-15', u'2016-07-16', u'2016-07-17', u'2016-07-18', u'2016-07-19', u'2016-07-20', u'2016-07-21', u'2016-07-22', u'2016-07-23', u'2016-07-24', u'2016-07-25', u'2016-07-26', u'2016-07-27', u'2016-07-28', u'2016-07-29', u'2016-07-30', u'2016-07-31', u'2016-08-01', u'2016-08-02', u'2016-08-03', u'2016-08-04', u'2016-08-05', u'2016-08-06', u'2016-08-07', u'2016-08-08', u'2016-08-09', u'2016-08-10', u'2016-08-11', u'2016-08-12', u'2016-08-13', u'2016-08-14', u'2016-08-15', u'2016-08-16', u'2016-08-17', u'2016-08-18', u'2016-08-19', u'2016-08-20', u'2016-08-21', u'2016-08-22', u'2016-08-23', u'2016-08-24', u'2016-08-25', u'2016-08-26', u'2016-08-27', u'2016-08-28', u'2016-08-29', u'2016-08-30', u'2016-08-31', u'2016-09-01', u'2016-09-02', u'2016-09-03', u'2016-09-04', u'2016-09-05', u'2016-09-06', u'2016-09-07', u'2016-09-08', u'2016-09-09', u'2016-09-10', u'2016-09-11', u'2016-09-12', u'2016-09-13', u'2016-09-14', u'2016-09-15', u'2016-09-16', u'2016-09-17', u'2016-09-18', u'2016-09-19', u'2016-09-20', u'2016-09-21', u'2016-09-22', u'2016-09-23', u'2016-09-24', u'2016-09-25', u'2016-09-26', u'2016-09-27', u'2016-09-28', u'2016-09-29', u'2016-09-30', u'2016-10-01', u'2016-10-02', u'2016-10-03', u'2016-10-04', u'2016-10-05', u'2016-10-06', u'2016-10-07', u'2016-10-08', u'2016-10-09', u'2016-10-10', u'2016-10-11', u'2016-10-12', u'2016-10-13', u'2016-10-14', u'2016-10-15', u'2016-10-16', u'2016-10-17', u'2016-10-18', u'2016-10-19', u'2016-10-20', u'2016-10-21', u'2016-10-22', u'2016-10-23', u'2016-10-24', u'2016-10-25', u'2016-10-26', u'2016-10-27', u'2016-10-28', u'2016-10-29', u'2016-10-30', u'2016-10-31', u'2016-11-01', u'2016-11-02', u'2016-11-03', u'2016-11-04', u'2016-11-05', u'2016-11-06', u'2016-11-07', u'2016-11-08', u'2016-11-09', u'2016-11-10', u'2016-11-11', u'2016-11-12', u'2016-11-13', u'2016-11-14', u'2016-11-15', u'2016-11-16', u'2016-11-17', u'2016-11-18', u'2016-11-19', u'2016-11-20', u'2016-11-21', u'2016-11-22', u'2016-11-23', u'2016-11-24', u'2016-11-25', u'2016-11-26', u'2016-11-27', u'2016-11-28', u'2016-11-29', u'2016-11-30', u'2016-12-01', u'2016-12-02', u'2016-12-03', u'2016-12-04', u'2016-12-05', u'2016-12-06', u'2016-12-07', u'2016-12-08', u'2016-12-09', u'2016-12-10', u'2016-12-11', u'2016-12-12', u'2016-12-13', u'2016-12-14', u'2016-12-15', u'2016-12-16', u'2016-12-17', u'2016-12-18', u'2016-12-19', u'2016-12-20', u'2016-12-21', u'2016-12-22', u'2016-12-23', u'2016-12-24', u'2016-12-25', u'2016-12-26', u'2016-12-27', u'2016-12-28', u'2016-12-29', u'2016-12-30', u'2016-12-31'], u'description': u'Daily Climate and Burn Indices', u'detail': u'', u'spatial_extent': {u'xmin': -89.975, u'ymin': -59.975, u'ymax': 10.025, u'xmax': -29.975}, u'attributes': {u'humidity': {u'scale_factor': 1.0, u'name': u'humidity', u'datatype': u'float', u'valid_range': {u'max': 1.0, u'min': 0.0}, u'missing_value': -999.0, u'description': u''}, u'precipitation': {u'scale_factor': 1.0, u'name': u'precipitation', u'datatype': u'float', u'valid_range': {u'max': 100.0, u'min': 0.0}, u'missing_value': -9999.0, u'description': u'mm/day'}, u'risk': {u'scale_factor': 1.0, u'name': u'risk', u'datatype': u'float', u'valid_range': {u'max': 1.0, u'min': 0.0}, u'missing_value': 9.96921e+36, u'description': u''}, u'temperature': {u'scale_factor': 1.0, u'name': u'temperature', u'datatype': u'float', u'valid_range': {u'max': 10000.0, u'min': 0.0}, u'missing_value': -999.0, u'description': u'K'}}, u'spatial_resolution': {u'y': 0.05, u'x': 0.05}, u'name': u'rpth'}\n"
     ]
    }
   ],
   "source": [
    "import json\n",
    "\n",
    "# Feature estados_bra\n",
    "f = s.feature('esensing:estados_bra')\n",
    "print(f.describe())\n",
    "\n",
    "\n",
    "# Coverage rpth\n",
    "c = s.coverage('rpth')\n",
    "print(c.describe())"
   ]
  },
  {
   "cell_type": "markdown",
   "metadata": {},
   "source": [
    "## Retrieving features\n",
    "\n",
    "In the following example, we retrieve a feature from the WFS server. SimpleGeo returns a GeoPandasDataFrame with the features."
   ]
  },
  {
   "cell_type": "code",
   "execution_count": 6,
   "metadata": {},
   "outputs": [
    {
     "data": {
      "text/html": [
       "<div>\n",
       "<style>\n",
       "    .dataframe thead tr:only-child th {\n",
       "        text-align: right;\n",
       "    }\n",
       "\n",
       "    .dataframe thead th {\n",
       "        text-align: left;\n",
       "    }\n",
       "\n",
       "    .dataframe tbody tr th {\n",
       "        vertical-align: top;\n",
       "    }\n",
       "</style>\n",
       "<table border=\"1\" class=\"dataframe\">\n",
       "  <thead>\n",
       "    <tr style=\"text-align: right;\">\n",
       "      <th></th>\n",
       "      <th>geometry</th>\n",
       "      <th>nome</th>\n",
       "      <th>pais</th>\n",
       "      <th>regiao</th>\n",
       "    </tr>\n",
       "  </thead>\n",
       "  <tbody>\n",
       "    <tr>\n",
       "      <th>0</th>\n",
       "      <td>(POLYGON ((-37.99244578 -9.52510618, -37.98933...</td>\n",
       "      <td>Sergipe</td>\n",
       "      <td>Brazil</td>\n",
       "      <td>NE</td>\n",
       "    </tr>\n",
       "    <tr>\n",
       "      <th>1</th>\n",
       "      <td>(POLYGON ((-37.1500849 -4.93569494, -37.147238...</td>\n",
       "      <td>Rio Grande do Norte</td>\n",
       "      <td>Brazil</td>\n",
       "      <td>NE</td>\n",
       "    </tr>\n",
       "    <tr>\n",
       "      <th>2</th>\n",
       "      <td>(POLYGON ((-41.74604645 -2.8034972, -41.742407...</td>\n",
       "      <td>Piauí</td>\n",
       "      <td>Brazil</td>\n",
       "      <td>NE</td>\n",
       "    </tr>\n",
       "    <tr>\n",
       "      <th>3</th>\n",
       "      <td>(POLYGON ((-48.35878217 -5.17008472, -48.35617...</td>\n",
       "      <td>Tocantins</td>\n",
       "      <td>Brazil</td>\n",
       "      <td>N</td>\n",
       "    </tr>\n",
       "    <tr>\n",
       "      <th>4</th>\n",
       "      <td>(POLYGON ((-60.20050658 5.26434344, -60.198284...</td>\n",
       "      <td>Roraima</td>\n",
       "      <td>Brazil</td>\n",
       "      <td>N</td>\n",
       "    </tr>\n",
       "  </tbody>\n",
       "</table>\n",
       "</div>"
      ],
      "text/plain": [
       "                                            geometry                 nome  \\\n",
       "0  (POLYGON ((-37.99244578 -9.52510618, -37.98933...              Sergipe   \n",
       "1  (POLYGON ((-37.1500849 -4.93569494, -37.147238...  Rio Grande do Norte   \n",
       "2  (POLYGON ((-41.74604645 -2.8034972, -41.742407...                Piauí   \n",
       "3  (POLYGON ((-48.35878217 -5.17008472, -48.35617...            Tocantins   \n",
       "4  (POLYGON ((-60.20050658 5.26434344, -60.198284...              Roraima   \n",
       "\n",
       "     pais regiao  \n",
       "0  Brazil     NE  \n",
       "1  Brazil     NE  \n",
       "2  Brazil     NE  \n",
       "3  Brazil     N   \n",
       "4  Brazil     N   "
      ]
     },
     "metadata": {},
     "output_type": "display_data"
    }
   ],
   "source": [
    "f = s.feature('esensing:estados_bra')\n",
    "estados = f.get()\n",
    "# displaying \n",
    "display(estados.head())"
   ]
  },
  {
   "cell_type": "markdown",
   "metadata": {},
   "source": [
    "### Feature methods\n",
    "\n",
    "- **max_features**: limit the number of features returned\n",
    "- **sort_by**: sorts by the returning features using one (ou more) attributes\n",
    "- **attributes**: selects attributes to be retrieved\n",
    "- **filter**: filtering features by its spatial and non-spatial attributes\n"
   ]
  },
  {
   "cell_type": "markdown",
   "metadata": {},
   "source": [
    "In the following example, we retrieve a feature from the WFS server using all allowed options. You can combine then in many ways to select only the features you want."
   ]
  },
  {
   "cell_type": "code",
   "execution_count": 7,
   "metadata": {},
   "outputs": [
    {
     "data": {
      "text/html": [
       "<div>\n",
       "<style>\n",
       "    .dataframe thead tr:only-child th {\n",
       "        text-align: right;\n",
       "    }\n",
       "\n",
       "    .dataframe thead th {\n",
       "        text-align: left;\n",
       "    }\n",
       "\n",
       "    .dataframe tbody tr th {\n",
       "        vertical-align: top;\n",
       "    }\n",
       "</style>\n",
       "<table border=\"1\" class=\"dataframe\">\n",
       "  <thead>\n",
       "    <tr style=\"text-align: right;\">\n",
       "      <th></th>\n",
       "      <th>geometry</th>\n",
       "      <th>id</th>\n",
       "      <th>municipio</th>\n",
       "      <th>regiao</th>\n",
       "      <th>timestamp</th>\n",
       "    </tr>\n",
       "  </thead>\n",
       "  <tbody>\n",
       "    <tr>\n",
       "      <th>0</th>\n",
       "      <td>POINT (-48.152 -15.939)</td>\n",
       "      <td>34134137</td>\n",
       "      <td>Brasília</td>\n",
       "      <td>CO</td>\n",
       "      <td>2016-07-13T13:30:00Z</td>\n",
       "    </tr>\n",
       "    <tr>\n",
       "      <th>1</th>\n",
       "      <td>POINT (-47.718 -15.74)</td>\n",
       "      <td>34134153</td>\n",
       "      <td>Brasília</td>\n",
       "      <td>CO</td>\n",
       "      <td>2016-07-12T17:15:00Z</td>\n",
       "    </tr>\n",
       "    <tr>\n",
       "      <th>2</th>\n",
       "      <td>POINT (-48.119 -15.716)</td>\n",
       "      <td>34134127</td>\n",
       "      <td>Brasília</td>\n",
       "      <td>CO</td>\n",
       "      <td>2016-09-17T17:10:00Z</td>\n",
       "    </tr>\n",
       "    <tr>\n",
       "      <th>3</th>\n",
       "      <td>POINT (-47.955 -15.918)</td>\n",
       "      <td>34134135</td>\n",
       "      <td>Brasília</td>\n",
       "      <td>CO</td>\n",
       "      <td>2016-09-17T17:10:00Z</td>\n",
       "    </tr>\n",
       "    <tr>\n",
       "      <th>4</th>\n",
       "      <td>POINT (-47.702 -15.737)</td>\n",
       "      <td>34134145</td>\n",
       "      <td>Brasília</td>\n",
       "      <td>CO</td>\n",
       "      <td>2016-07-12T17:15:00Z</td>\n",
       "    </tr>\n",
       "  </tbody>\n",
       "</table>\n",
       "</div>"
      ],
      "text/plain": [
       "                  geometry        id municipio regiao             timestamp\n",
       "0  POINT (-48.152 -15.939)  34134137  Brasília     CO  2016-07-13T13:30:00Z\n",
       "1   POINT (-47.718 -15.74)  34134153  Brasília     CO  2016-07-12T17:15:00Z\n",
       "2  POINT (-48.119 -15.716)  34134127  Brasília     CO  2016-09-17T17:10:00Z\n",
       "3  POINT (-47.955 -15.918)  34134135  Brasília     CO  2016-09-17T17:10:00Z\n",
       "4  POINT (-47.702 -15.737)  34134145  Brasília     CO  2016-07-12T17:15:00Z"
      ]
     },
     "metadata": {},
     "output_type": "display_data"
    }
   ],
   "source": [
    "# import SimpleGeo Predicates\n",
    "from SimpleGeo import Predicates as pre\n",
    "\n",
    "f = s.feature(\"esensing:focos_bra_2016\") \\\n",
    "    .attributes([\"id\", \"municipio\", \"timestamp\", \"regiao\"]) \\\n",
    "    .filter(pre.OR(\n",
    "    pre.AND(\n",
    "        pre.EQ(\"satelite_referencia\", \"true\"),\n",
    "        pre.GE(\"timestamp\", \"2016-01-01\"),\n",
    "        pre.LT(\"timestamp\", \"2016-02-01\"),\n",
    "        pre.WITHIN(\n",
    "            \"POLYGON((-49.515628859948507 -19.394602563415745,-48.020567850467053 -19.610579617637825,-48.354439522883652 -21.052347219666608,-49.849500507163917 -20.836369963642884,-49.515628859948507 -19.394602563415745))\"),\n",
    "    ), \\\n",
    "    pre.NE(\"regiao\", \"SE\") \\\n",
    "    )) \\\n",
    "    .max_features(10) \\\n",
    "    .sort_by(\"regiao\")\n",
    "    \n",
    "focos = f.get()\n",
    "display(focos.head())"
   ]
  }
 ],
 "metadata": {
  "kernelspec": {
   "display_name": "Python [sgeo]",
   "language": "python",
   "name": "sgeo"
  },
  "language_info": {
   "codemirror_mode": {
    "name": "ipython",
    "version": 2
   },
   "file_extension": ".py",
   "mimetype": "text/x-python",
   "name": "python",
   "nbconvert_exporter": "python",
   "pygments_lexer": "ipython2",
   "version": "2.7.14"
  }
 },
 "nbformat": 4,
 "nbformat_minor": 2
}
